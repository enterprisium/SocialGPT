{
  "cells": [
    {
      "cell_type": "markdown",
      "metadata": {
        "id": "QRKdKW2SRc23"
      },
      "source": [
        "<center>\n",
        "    <a href=\"https://github.com/enterprisium/SocialGPT\">\n",
        "        <img src='https://upload.wikimedia.org/wikipedia/commons/thumb/e/eb/Ei-sc-github.svg/768px-Ei-sc-github.svg.png' height=\"80\" alt=\"SocialGPT Github\"/>\n",
        "    </a>\n",
        "</center>"
      ]
    },
    {
      "cell_type": "code",
      "execution_count": null,
      "metadata": {
        "id": "ZUVV5nTSUhxR",
        "cellView": "form"
      },
      "outputs": [],
      "source": [
        "#@markdown <center><h2>Setup</h2>install all the required dependicies</h3></center><br>\n",
        "\n",
        "from IPython.display import HTML\n",
        "from base64 import b64encode\n",
        "\n",
        "def play(f):\n",
        "  mp4 = open(f,'rb').read()\n",
        "  data_url = \"data:video/mp4;base64,\" + b64encode(mp4).decode()\n",
        "  return HTML(\"\"\"\n",
        "  <video width=400 controls>\n",
        "        <source src=\"%s\" type=\"video/mp4\">\n",
        "  </video>\n",
        "  \"\"\" % data_url)\n",
        "\n",
        "!apt install imagemagick\n",
        "!cat /etc/ImageMagick-6/policy.xml | sed 's/none/read,write/g'> /etc/ImageMagick-6/policy.xml\n",
        "\n",
        "!wget -qO- 'http://keyserver.ubuntu.com/pks/lookup?op=get&search=0x6888550b2fc77d09' | sudo tee /etc/apt/trusted.gpg.d/songrec.asc\n",
        "!sudo apt-add-repository ppa:marin-m/songrec -y -u\n",
        "\n",
        "!sudo apt install songrec -y\n",
        "!pip install youtube-transcript-api langchain langchain_openai openai requests \\\n",
        "moviepy==2.0.0.dev2 imageio==2.25.1 pysrt==1.1.2 Pillow==9.5.0 ffmpeg-python \\\n",
        "pytube google-api-python-client google-auth-oauthlib google-auth-httplib2 \\\n",
        "oauth2client git+https://github.com/m1guelpf/auto-subtitle.git"
      ]
    },
    {
      "cell_type": "code",
      "execution_count": null,
      "metadata": {
        "id": "ysTOjQPsVJWP",
        "cellView": "form"
      },
      "outputs": [],
      "source": [
        "#@markdown <center><h2>SETUP API KEYS AND DOWNLOAD LINK</h2>\n",
        "\n",
        "import os\n",
        "from google.colab import userdata\n",
        "\n",
        "os.environ[\"OPENAI_API_KEY\"] = userdata.get('OPENAI_API_KEY')\n",
        "os.environ[\"PEXELS_API_KEY\"] = userdata.get('PEXELS_API_KEY')\n",
        "os.environ[\"YOUTUBE_SHORT_URL\"] = \"https://www.youtube.com/shorts/k_7meFS5Uqo\""
      ]
    },
    {
      "cell_type": "code",
      "execution_count": null,
      "metadata": {
        "colab": {
          "base_uri": "https://localhost:8080/"
        },
        "id": "uKT2tgTpjvpg",
        "outputId": "0c75f89f-a65d-4a05-c2c5-085e7ed44be2",
        "cellView": "form"
      },
      "outputs": [
        {
          "output_type": "stream",
          "name": "stdout",
          "text": [
            "Directory 'output' already exists.\n"
          ]
        }
      ],
      "source": [
        "#@markdown <center><h2>Create New Folder If Not Exist</h2>\n",
        "\n",
        "import os\n",
        "\n",
        "directory_path = \"output\"\n",
        "\n",
        "if not os.path.exists(directory_path):\n",
        "    os.makedirs(directory_path)\n",
        "    print(f\"Directory '{directory_path}' created successfully.\")\n",
        "else:\n",
        "    print(f\"Directory '{directory_path}' already exists.\")\n"
      ]
    },
    {
      "cell_type": "code",
      "execution_count": null,
      "metadata": {
        "colab": {
          "base_uri": "https://localhost:8080/"
        },
        "id": "T1MYYGCb5rJU",
        "outputId": "59e1b5a7-b5a0-46f8-b84b-0c0ac8d39ad6",
        "cellView": "form"
      },
      "outputs": [
        {
          "output_type": "stream",
          "name": "stdout",
          "text": [
            "Loading video...\n",
            "WORK HARD ON YOURSELF - Motivational Speech.mp4 | 0 MB\n",
            " ↳ |███████████████████████████████████████████████████████| 100.0%\n"
          ]
        }
      ],
      "source": [
        "#@markdown <center><h2>Download The Short</h2>\n",
        "\n",
        "!mkdir \"tmp\"\n",
        "!pytube \"$YOUTUBE_SHORT_URL\" --audio --target \"tmp\"\n",
        "!cd \"tmp\" && for fl in *.mp4; do mv \"$fl\" \"../output/short.mp4\"; done\n",
        "!rm -rf \"tmp\""
      ]
    },
    {
      "cell_type": "code",
      "execution_count": null,
      "metadata": {
        "id": "7uSRMRVrxY3y",
        "cellView": "form"
      },
      "outputs": [],
      "source": [
        "#@markdown <center><h2>Extract Audio</h2>\n",
        "\n",
        "play(\"output/short.mp4\")"
      ]
    },
    {
      "cell_type": "code",
      "execution_count": null,
      "metadata": {
        "colab": {
          "base_uri": "https://localhost:8080/",
          "height": 70
        },
        "id": "MtDO_yoUVsww",
        "outputId": "84f734e3-2382-4fe3-f59c-c33066762b5a",
        "cellView": "form"
      },
      "outputs": [
        {
          "output_type": "execute_result",
          "data": {
            "text/plain": [
              "\"everything changed for me when I understood this philosophy learn to work harder on yourself than you do on your job that's the simple philosophy that changed my life forever starting age 25 if you work hard on your job you can make a living which is fine if you work hard on yourself you can make a fortune which is super fine you can have more than you've got because you can become more than you are\""
            ],
            "application/vnd.google.colaboratory.intrinsic+json": {
              "type": "string"
            }
          },
          "metadata": {},
          "execution_count": 122
        }
      ],
      "source": [
        " #@markdown <center><h2>Get the transcript for a video</h2>\n",
        "\n",
        "from youtube_transcript_api import YouTubeTranscriptApi\n",
        "\n",
        "youtube_short_url = os.getenv(\"YOUTUBE_SHORT_URL\")\n",
        "video_id = youtube_short_url.split(\"/\")[-1]\n",
        "\n",
        "res = YouTubeTranscriptApi.get_transcript(video_id)\n",
        "transcript = \" \".join(map(lambda x: x.get(\"text\", \"\"), res))\n",
        "transcript"
      ]
    },
    {
      "cell_type": "code",
      "execution_count": null,
      "metadata": {
        "colab": {
          "base_uri": "https://localhost:8080/"
        },
        "id": "M7qmHK9iVypH",
        "outputId": "e6f3300a-aed1-49ac-deb5-5e67c8ebabb8",
        "cellView": "form"
      },
      "outputs": [
        {
          "output_type": "execute_result",
          "data": {
            "text/plain": [
              "['Unlock Your Potential with Self Growth 💪',\n",
              " 'The game-changer for me? Realizing this mantra: \"Invest more in yourself than in your job\". This single mindset switch changed my life at 25. Working hard on your job? Sure, that\\'ll earn you a living - and that\\'s cool. But working hard on yourself? Now that\\'s where the magic happens, that\\'s where you make a fortune. And that\\'s not just cool, that\\'s epic! Remember, you can always have more, because you can always be more. So, if you\\'re still with me, drop a \"100\" in the comments. Let\\'s grow together! 💯']"
            ]
          },
          "metadata": {},
          "execution_count": 126
        }
      ],
      "source": [
        "#@markdown <center><h2>Generate similar scripts</h2>\n",
        "from langchain_core.output_parsers import StrOutputParser\n",
        "from langchain_core.prompts import ChatPromptTemplate\n",
        "from langchain_openai import ChatOpenAI\n",
        "\n",
        "template = \"\"\"Generate a vibrant simple to understand, higly motivitonal and lively script. I'll share a reference transcript,\n",
        "and I want you to create a script with a similar vibe but infused with modern language to resonate with the young internet-savvy audience.\n",
        "Use simple words and terminalogy and yet keep it engaging.\n",
        "Additionally, provide a short and captivating video caption for the script, concluding it with a relevant emoji.\n",
        "At the end of each video always ask audiounce to drop 100 in comment if they listened so far.\n",
        "Reference Transcript: {transcript}\n",
        "Ouput:\n",
        "The caption and script must be seprated by a new line.\n",
        "Do not include the word Caption: and Script: in you answer just seprate them by one new line.\n",
        "Do not use new lines and emojies in script.\n",
        "example:\n",
        "\n",
        "my caption\n",
        "\n",
        "my script\n",
        "\"\"\"\n",
        "\n",
        "prompt = ChatPromptTemplate.from_template(template)\n",
        "model = ChatOpenAI(model=\"gpt-4\")\n",
        "output_parser = StrOutputParser()\n",
        "\n",
        "chain = prompt | model | output_parser\n",
        "\n",
        "output = chain.invoke({\"num_scripts\": 1, \"transcript\": transcript})\n",
        "scripts = output.strip().split(\"\\n\\n\")\n",
        "scripts"
      ]
    },
    {
      "cell_type": "code",
      "execution_count": null,
      "metadata": {
        "colab": {
          "base_uri": "https://localhost:8080/"
        },
        "id": "9oF1K389V9gz",
        "outputId": "1565d2ec-d0c8-49e7-fd4b-5d35dd32304d",
        "cellView": "form"
      },
      "outputs": [
        {
          "output_type": "execute_result",
          "data": {
            "text/plain": [
              "('Unlock Your Potential with Self Growth 💪 #motivation #mindset #entrepreneur',\n",
              " 'The game-changer for me? Realizing this mantra: \"Invest more in yourself than in your job\". This single mindset switch changed my life at 25. Working hard on your job? Sure, that\\'ll earn you a living - and that\\'s cool. But working hard on yourself? Now that\\'s where the magic happens, that\\'s where you make a fortune. And that\\'s not just cool, that\\'s epic! Remember, you can always have more, because you can always be more. So, if you\\'re still with me, drop a \"100\" in the comments. Let\\'s grow together! 💯')"
            ]
          },
          "metadata": {},
          "execution_count": 127
        }
      ],
      "source": [
        "#@markdown <center><h2>(Optional) Use trending background music</h2>\n",
        "caption, script = scripts\n",
        "caption += \" #motivation #mindset #entrepreneur\"\n",
        "os.environ[\"CAPTION\"] = caption\n",
        "caption, script"
      ]
    },
    {
      "cell_type": "code",
      "execution_count": null,
      "metadata": {
        "colab": {
          "base_uri": "https://localhost:8080/",
          "height": 35
        },
        "id": "eVpFYwURWOgP",
        "outputId": "61f3d304-4af4-4763-f9a0-4e89f3dafb30",
        "cellView": "form"
      },
      "outputs": [
        {
          "output_type": "execute_result",
          "data": {
            "text/plain": [
              "'output/voice.mp3'"
            ],
            "application/vnd.google.colaboratory.intrinsic+json": {
              "type": "string"
            }
          },
          "metadata": {},
          "execution_count": 128
        }
      ],
      "source": [
        "# [X] Generate a voice over for the video\n",
        "#@markdown <center><h2>Generate a voice over for the video</h2>\n",
        "\n",
        "from openai import OpenAI\n",
        "\n",
        "client = OpenAI()\n",
        "\n",
        "voice_path = \"output/voice.mp3\"\n",
        "response = client.audio.speech.create(\n",
        "    model=\"tts-1-hd\",\n",
        "    voice=\"onyx\",\n",
        "    input=script,\n",
        ")\n",
        "response.stream_to_file(voice_path)\n",
        "voice_path"
      ]
    },
    {
      "cell_type": "code",
      "execution_count": null,
      "metadata": {
        "colab": {
          "base_uri": "https://localhost:8080/"
        },
        "id": "FPl_-AMw9qtD",
        "outputId": "9956b93c-ff95-492d-cc74-30c70cbb89d2",
        "cellView": "form"
      },
      "outputs": [
        {
          "data": {
            "text/plain": [
              "29"
            ]
          },
          "execution_count": 94,
          "metadata": {},
          "output_type": "execute_result"
        }
      ],
      "source": [
        "\n",
        "#@markdown <center><h2>Get the Audio Length </h2>\n",
        "\n",
        "from moviepy.editor import AudioFileClip\n",
        "\n",
        "audio = AudioFileClip(voice_path)\n",
        "duration_in_seconds = round(audio.duration)\n",
        "duration_in_seconds"
      ]
    },
    {
      "cell_type": "code",
      "execution_count": null,
      "metadata": {
        "colab": {
          "base_uri": "https://localhost:8080/",
          "height": 53
        },
        "id": "Ll6lWHlIfTO6",
        "outputId": "74400bdc-827b-41a9-ad6a-b60c02425b9d",
        "cellView": "form"
      },
      "outputs": [
        {
          "output_type": "stream",
          "name": "stdout",
          "text": [
            "Error: No match for this song\n"
          ]
        },
        {
          "output_type": "execute_result",
          "data": {
            "text/plain": [
              "'output/shazam.json'"
            ],
            "application/vnd.google.colaboratory.intrinsic+json": {
              "type": "string"
            }
          },
          "metadata": {},
          "execution_count": 129
        }
      ],
      "source": [
        "\n",
        "#@markdown <center><h2>Guess the music using shazam or similar service and get the youtube link</h2>\n",
        "\n",
        "import json\n",
        "\n",
        "!songrec recognize -j \"output/short.mp4\" > \"output/shazam.json\"\n",
        "\"output/shazam.json\""
      ]
    },
    {
      "cell_type": "code",
      "execution_count": null,
      "metadata": {
        "colab": {
          "base_uri": "https://localhost:8080/"
        },
        "id": "amtpARPciKtw",
        "outputId": "8b5d341a-ab7b-44e5-8bf0-b5b93f0eee69",
        "cellView": "form"
      },
      "outputs": [
        {
          "output_type": "stream",
          "name": "stderr",
          "text": [
            "WARNING:pytube.contrib.search:Unexpected renderer encountered.\n",
            "WARNING:pytube.contrib.search:Renderer name: dict_keys(['reelShelfRenderer'])\n",
            "WARNING:pytube.contrib.search:Search term: Ravens Rock - Sweet Dreams (Extended) [slowed and reverb]\n",
            "WARNING:pytube.contrib.search:Please open an issue at https://github.com/pytube/pytube/issues and provide this log output.\n",
            "WARNING:pytube.contrib.search:Unexpected renderer encountered.\n",
            "WARNING:pytube.contrib.search:Renderer name: dict_keys(['reelShelfRenderer'])\n",
            "WARNING:pytube.contrib.search:Search term: Ravens Rock - Sweet Dreams (Extended) [slowed and reverb]\n",
            "WARNING:pytube.contrib.search:Please open an issue at https://github.com/pytube/pytube/issues and provide this log output.\n"
          ]
        },
        {
          "output_type": "stream",
          "name": "stdout",
          "text": [
            "Loading video...\n",
            "𝑺𝒘𝒆𝒆𝒕 𝑫𝒓𝒆𝒂𝒎𝒔  𝑹𝒂𝒗𝒆𝒏𝒔 𝑹𝒐𝒄𝒌 𝑺𝒍𝒐𝒘𝒆𝒅 𝒕𝒐 𝒉𝒆𝒍𝒍 (longer version).mp4 | 4 MB\n",
            " ↳ |███████████████████████████████████████████████████████| 100.0%\n"
          ]
        }
      ],
      "source": [
        "#@markdown <center><h2>Voice Modeficication</h2>\n",
        "\n",
        "import os\n",
        "import json\n",
        "import requests\n",
        "from moviepy.editor import AudioFileClip\n",
        "from pytube import Search\n",
        "\n",
        "music_title = None\n",
        "try:\n",
        "  shazam = json.loads(open(\"output/shazam.json\").read())\n",
        "  music_title = shazam.get(\"track\").get(\"title\")\n",
        "except:\n",
        "  pass\n",
        "\n",
        "search_title = f\"{music_title} music only\" if music_title else \"Ravens Rock - Sweet Dreams (Extended) [slowed and reverb]\"\n",
        "s = Search(search_title)\n",
        "os.environ[\"YOUTUBE_MUSIC_URL\"] = f\"https://www.youtube.com/watch?v={s.results[1].video_id}\"\n",
        "\n",
        "!mkdir \"tmp\"\n",
        "!pytube \"$YOUTUBE_MUSIC_URL\" --audio --target \"tmp\"\n",
        "!cd \"tmp\" && for fl in *.mp4; do mv \"$fl\" \"../output/music.mp3\"; done\n",
        "!rm -rf \"tmp\""
      ]
    },
    {
      "cell_type": "code",
      "execution_count": null,
      "metadata": {
        "id": "0DZ57milj1qL"
      },
      "outputs": [],
      "source": [
        "play(\"output/music.mp3\")"
      ]
    },
    {
      "cell_type": "code",
      "execution_count": null,
      "metadata": {
        "colab": {
          "base_uri": "https://localhost:8080/"
        },
        "id": "iPBkEI86OL57",
        "outputId": "e84156c4-18f2-4637-d841-391792f7b132",
        "cellView": "form"
      },
      "outputs": [
        {
          "output_type": "stream",
          "name": "stdout",
          "text": [
            "Extracting audio from voice...\n",
            "Generating subtitles for voice... This might take a while.\n",
            "100% 3172/3172 [00:37<00:00, 84.14frames/s]\n"
          ]
        }
      ],
      "source": [
        "#@markdown <center><h2>Generate a caption for video</h2>\n",
        "\n",
        "!auto_subtitle \"output/voice.mp3\" --srt_only \"True\" --output_dir \"output\" --language \"en\"\n",
        "\n",
        "import pysrt\n",
        "import string\n",
        "\n",
        "subs = pysrt.open('output/voice.srt')\n",
        "\n",
        "for sub in subs:\n",
        "    sub.text = sub.text.translate(str.maketrans(\"\", \"\", string.punctuation))\n",
        "    if len(sub.text) > 20:\n",
        "        words = sub.text.split()\n",
        "        lines = []\n",
        "        current_line = \"\"\n",
        "\n",
        "        for word in words:\n",
        "            if len(current_line) + len(word) <= 30:\n",
        "                current_line += word.title() + \" \"\n",
        "            else:\n",
        "                lines.append(current_line.strip())\n",
        "                current_line = word.title() + \" \"\n",
        "\n",
        "        if current_line:\n",
        "            lines.append(current_line.strip())\n",
        "\n",
        "        sub.text = \"\\n\".join(lines)\n",
        "    else:\n",
        "        sub.text = sub.text.title()\n",
        "\n",
        "subs.save(\"output/voice.srt\")"
      ]
    },
    {
      "cell_type": "code",
      "execution_count": null,
      "metadata": {
        "colab": {
          "base_uri": "https://localhost:8080/"
        },
        "id": "84Q_7VJeN923",
        "outputId": "6c2ddd37-7c29-45a7-f2f5-7e81dcf77c20",
        "cellView": "form"
      },
      "outputs": [
        {
          "output_type": "execute_result",
          "data": {
            "text/plain": [
              "['Book', 'Meditation', 'Office', 'Gym', 'Treasure', 'Community']"
            ]
          },
          "metadata": {},
          "execution_count": 148
        }
      ],
      "source": [
        "#@markdown <center><h2>Genrate Search Terms</h2>\n",
        "\n",
        "from langchain_core.output_parsers import StrOutputParser\n",
        "from langchain_core.prompts import ChatPromptTemplate\n",
        "from langchain_openai import ChatOpenAI\n",
        "\n",
        "template = \"\"\"Imagine you're a highly imaginative artist with the unique ability to map the subjects\n",
        "in a given SRT caption to a one word real-world objects and scenes.\n",
        "It's important to keep the titles exactly one word, and title must be a real word object or scences\n",
        "That human can vision, avoid providing teoritocal titles like: Paradox, Chrysalis, Journey, Reality, Accomplishment\n",
        "Instead use real world titles that can bee seen by human eyes like Mansion, Yoga, Car, Money.\n",
        "Give me exactly {num_clips} distinct clip titles.\n",
        "Each title should seamlessly flow into the next, creating a captivating narrative,\n",
        "and each title will be precisely 5 seconds long.\n",
        "I want you to understand and imagine the big picture of the video and give me titles that matches\n",
        "The entire video, not just invidual scences.\n",
        "\n",
        "Get inspired by the SRT caption provided:\n",
        "\n",
        "{srt_caption}\n",
        "\n",
        "Output Instruction:\n",
        "Provide only the titles. Each title must be separated by a new line,\n",
        "do not mention numbers in titles and titles must be URL-encoded friendly.\n",
        "Example Output:\n",
        "Yoga\n",
        "Forest\n",
        "Office\n",
        "Jogging\n",
        "Sunset\n",
        "Cafe\n",
        "Hiking\n",
        "Spa\n",
        "Beach\n",
        "Tea\n",
        "Luxury\n",
        "Money\n",
        "\"\"\"\n",
        "\n",
        "\n",
        "prompt = ChatPromptTemplate.from_template(template)\n",
        "model = ChatOpenAI(model=\"gpt-4\")\n",
        "output_parser = StrOutputParser()\n",
        "\n",
        "chain = prompt | model | output_parser\n",
        "\n",
        "num_clips = (duration_in_seconds // 5) + 1\n",
        "\n",
        "with open(\"output/voice.srt\", \"r\") as f:\n",
        "  srt_caption = f.read()\n",
        "  output = chain.invoke({\"num_clips\": num_clips, \"srt_caption\": srt_caption})\n",
        "\n",
        "clips_titles = output.strip().split(\"\\n\")\n",
        "clips_titles"
      ]
    },
    {
      "cell_type": "code",
      "execution_count": null,
      "metadata": {
        "colab": {
          "base_uri": "https://localhost:8080/"
        },
        "id": "lyxu6zqhU80H",
        "outputId": "648f961d-82fc-4add-eee8-9b5cab442119",
        "cellView": "form"
      },
      "outputs": [
        {
          "output_type": "execute_result",
          "data": {
            "text/plain": [
              "['output/Book_0.mp4',\n",
              " 'output/Meditation_0.mp4',\n",
              " 'output/Office_0.mp4',\n",
              " 'output/Gym_0.mp4',\n",
              " 'output/Treasure_0.mp4',\n",
              " 'output/Community_0.mp4']"
            ]
          },
          "metadata": {},
          "execution_count": 149
        }
      ],
      "source": [
        "\n",
        "\n",
        "#@markdown <center><h2>download relevent videos from pexels</h2>\n",
        "\n",
        "\n",
        "from collections import Counter\n",
        "import os\n",
        "import random\n",
        "from moviepy.editor import AudioFileClip\n",
        "import requests\n",
        "\n",
        "clip_counter = Counter(clips_titles)\n",
        "clips_paths = []\n",
        "selected_videos = set()\n",
        "\n",
        "for title, count in clip_counter.items():\n",
        "    headers = {\n",
        "        \"Authorization\": os.environ[\"PEXELS_API_KEY\"],\n",
        "    }\n",
        "    url = f\"https://api.pexels.com/videos/search?query={title}&per_page=15&orientation=portrait&size=medium\"\n",
        "    response = requests.get(url, headers=headers)\n",
        "\n",
        "    if response.status_code == 200:\n",
        "        videos = response.json()[\"videos\"]\n",
        "        for i in range(count):\n",
        "            available_videos = [\n",
        "                video\n",
        "                for video in videos\n",
        "                if video[\"video_files\"][0][\"link\"] not in selected_videos\n",
        "            ]\n",
        "            if not available_videos:\n",
        "                print(f\"No more available videos for title '{title}'.\")\n",
        "                break\n",
        "\n",
        "            video = random.choice(available_videos)\n",
        "            video_url = video[\"video_files\"][0][\"link\"]\n",
        "            temp_name = f\"{title}_{i}.mp4\"\n",
        "            video_path = os.path.join(\"output\", temp_name)\n",
        "            with open(video_path, \"wb\") as video_file:\n",
        "                video_file.write(requests.get(video_url).content)\n",
        "            clips_paths.append(video_path)\n",
        "            selected_videos.add(video_url)\n",
        "    else:\n",
        "        print(\n",
        "            f\"Failed to fetch videos for title '{title}'. Status code: {response.status_code}\"\n",
        "        )\n",
        "\n",
        "for i in range(num_clips - len(clips_paths)):\n",
        "  clips_paths.append(clips_paths[0])\n",
        "\n",
        "clips_paths"
      ]
    },
    {
      "cell_type": "code",
      "execution_count": null,
      "metadata": {
        "colab": {
          "base_uri": "https://localhost:8080/"
        },
        "id": "Ia0Jm3keWY-M",
        "outputId": "c4e35b49-ef2a-44a1-9ee1-66c98df0f3c6",
        "cellView": "form"
      },
      "outputs": [
        {
          "output_type": "execute_result",
          "data": {
            "text/plain": [
              "[<moviepy.video.io.VideoFileClip.VideoFileClip at 0x7b1fce883010>,\n",
              " <moviepy.video.io.VideoFileClip.VideoFileClip at 0x7b1fce880280>,\n",
              " <moviepy.video.io.VideoFileClip.VideoFileClip at 0x7b1fce880a30>,\n",
              " <moviepy.video.io.VideoFileClip.VideoFileClip at 0x7b1fce8806a0>,\n",
              " <moviepy.video.io.VideoFileClip.VideoFileClip at 0x7b1fce8826e0>,\n",
              " <moviepy.video.io.VideoFileClip.VideoFileClip at 0x7b1fce882e90>]"
            ]
          },
          "metadata": {},
          "execution_count": 150
        }
      ],
      "source": [
        "#@markdown <center><h2>Adjust Size length and ratio of the downloaded clips with Moviepy\n",
        "</h2>\n",
        "\n",
        "\n",
        "from moviepy.video.io.VideoFileClip import VideoFileClip\n",
        "from moviepy.video.io.ffmpeg_tools import ffmpeg_extract_subclip\n",
        "from moviepy.video.fx.all import resize\n",
        "\n",
        "\n",
        "def resize_clip(input_video_path, duration=5, new_dimensions = (720, 1280)):\n",
        "    video_clip = VideoFileClip(input_video_path)\n",
        "    total_duration = video_clip.duration\n",
        "    start_time = (total_duration - duration) / 2\n",
        "    end_time = start_time + duration\n",
        "    video_clip = video_clip.subclip(start_time, end_time)\n",
        "\n",
        "    video_clip = resize(video_clip, new_dimensions)\n",
        "    return video_clip\n",
        "\n",
        "\n",
        "clips = [resize_clip(cp) for cp in clips_paths]\n",
        "clips"
      ]
    },
    {
      "cell_type": "code",
      "execution_count": null,
      "metadata": {
        "colab": {
          "base_uri": "https://localhost:8080/"
        },
        "id": "0wESAFbzaBan",
        "outputId": "7f87d8a4-9cdf-4936-b8c0-e40eda879334",
        "cellView": "form"
      },
      "outputs": [
        {
          "output_type": "stream",
          "name": "stdout",
          "text": [
            "Moviepy - Building video output/composite_video.mp4.\n",
            "MoviePy - Writing audio in composite_videoTEMP_MPY_wvf_snd.mp4\n"
          ]
        },
        {
          "output_type": "stream",
          "name": "stderr",
          "text": []
        },
        {
          "output_type": "stream",
          "name": "stdout",
          "text": [
            "MoviePy - Done.\n",
            "Moviepy - Writing video output/composite_video.mp4\n",
            "\n"
          ]
        },
        {
          "output_type": "stream",
          "name": "stderr",
          "text": []
        },
        {
          "output_type": "stream",
          "name": "stdout",
          "text": [
            "Moviepy - Done !\n",
            "Moviepy - video ready output/composite_video.mp4\n"
          ]
        }
      ],
      "source": [
        "#@markdown <center><h2>Combine All in 1 Video VoiceOver, Music, Video Clips</h2>\n",
        "\n",
        "from moviepy.editor import VideoFileClip, CompositeAudioClip, concatenate_videoclips\n",
        "from moviepy.audio.fx.all import volumex\n",
        "\n",
        "voice_audio = AudioFileClip(\"output/voice.mp3\").fx(volumex, 3)\n",
        "music_audio = AudioFileClip(\"output/music.mp3\").fx(volumex, 0.5)\n",
        "t_start = int(music_audio.duration // 2 - duration_in_seconds // 2)\n",
        "music_audio = music_audio.subclip(t_start, duration_in_seconds + t_start)\n",
        "final_clip = concatenate_videoclips(clips, method=\"compose\").subclip(0, duration_in_seconds)\n",
        "audio = CompositeAudioClip([voice_audio, music_audio])\n",
        "final_clip = final_clip.set_audio(audio)\n",
        "\n",
        "final_clip.write_videofile(\"output/composite_video.mp4\", codec=\"libx264\",\n",
        "                           audio_codec=\"aac\", fps=24)"
      ]
    },
    {
      "cell_type": "code",
      "execution_count": null,
      "metadata": {
        "id": "6paIPOitumpk",
        "cellView": "form"
      },
      "outputs": [],
      "source": [
        "#@markdown <center><h2>final Video</h2>\n",
        "\n",
        "play(\"output/composite_video.mp4\")"
      ]
    },
    {
      "cell_type": "code",
      "execution_count": null,
      "metadata": {
        "colab": {
          "base_uri": "https://localhost:8080/"
        },
        "id": "fHu9j-rE2L94",
        "outputId": "fd1c615c-1208-4181-a9d2-8dc0a9a2573b",
        "cellView": "form"
      },
      "outputs": [
        {
          "output_type": "stream",
          "name": "stdout",
          "text": [
            "Moviepy - Building video output/out.mp4.\n",
            "MoviePy - Writing audio in outTEMP_MPY_wvf_snd.mp4\n"
          ]
        },
        {
          "output_type": "stream",
          "name": "stderr",
          "text": []
        },
        {
          "output_type": "stream",
          "name": "stdout",
          "text": [
            "MoviePy - Done.\n",
            "Moviepy - Writing video output/out.mp4\n",
            "\n"
          ]
        },
        {
          "output_type": "stream",
          "name": "stderr",
          "text": [
            "t:  91%|█████████▏| 697/762 [01:59<00:12,  5.02it/s, now=None]/usr/local/lib/python3.10/dist-packages/moviepy/video/io/ffmpeg_reader.py:154: UserWarning: In file output/composite_video.mp4, 2764800 bytes wanted but 0 bytes read,at frame index 696 (out of a total 762 frames), at time 29.00/31.75 sec. Using the last valid frame instead.\n",
            "  warnings.warn(\n",
            "t:  92%|█████████▏| 698/762 [01:59<00:11,  5.57it/s, now=None]/usr/local/lib/python3.10/dist-packages/moviepy/video/io/ffmpeg_reader.py:154: UserWarning: In file output/composite_video.mp4, 2764800 bytes wanted but 0 bytes read,at frame index 697 (out of a total 762 frames), at time 29.04/31.75 sec. Using the last valid frame instead.\n",
            "  warnings.warn(\n",
            "t:  92%|█████████▏| 699/762 [01:59<00:12,  5.22it/s, now=None]/usr/local/lib/python3.10/dist-packages/moviepy/video/io/ffmpeg_reader.py:154: UserWarning: In file output/composite_video.mp4, 2764800 bytes wanted but 0 bytes read,at frame index 698 (out of a total 762 frames), at time 29.08/31.75 sec. Using the last valid frame instead.\n",
            "  warnings.warn(\n",
            "t:  92%|█████████▏| 700/762 [02:00<00:11,  5.45it/s, now=None]/usr/local/lib/python3.10/dist-packages/moviepy/video/io/ffmpeg_reader.py:154: UserWarning: In file output/composite_video.mp4, 2764800 bytes wanted but 0 bytes read,at frame index 699 (out of a total 762 frames), at time 29.12/31.75 sec. Using the last valid frame instead.\n",
            "  warnings.warn(\n",
            "t:  92%|█████████▏| 701/762 [02:00<00:10,  5.89it/s, now=None]/usr/local/lib/python3.10/dist-packages/moviepy/video/io/ffmpeg_reader.py:154: UserWarning: In file output/composite_video.mp4, 2764800 bytes wanted but 0 bytes read,at frame index 700 (out of a total 762 frames), at time 29.17/31.75 sec. Using the last valid frame instead.\n",
            "  warnings.warn(\n",
            "t:  92%|█████████▏| 702/762 [02:00<00:11,  5.30it/s, now=None]/usr/local/lib/python3.10/dist-packages/moviepy/video/io/ffmpeg_reader.py:154: UserWarning: In file output/composite_video.mp4, 2764800 bytes wanted but 0 bytes read,at frame index 701 (out of a total 762 frames), at time 29.21/31.75 sec. Using the last valid frame instead.\n",
            "  warnings.warn(\n",
            "t:  92%|█████████▏| 703/762 [02:00<00:10,  5.85it/s, now=None]/usr/local/lib/python3.10/dist-packages/moviepy/video/io/ffmpeg_reader.py:154: UserWarning: In file output/composite_video.mp4, 2764800 bytes wanted but 0 bytes read,at frame index 702 (out of a total 762 frames), at time 29.25/31.75 sec. Using the last valid frame instead.\n",
            "  warnings.warn(\n",
            "t:  92%|█████████▏| 704/762 [02:00<00:10,  5.44it/s, now=None]/usr/local/lib/python3.10/dist-packages/moviepy/video/io/ffmpeg_reader.py:154: UserWarning: In file output/composite_video.mp4, 2764800 bytes wanted but 0 bytes read,at frame index 703 (out of a total 762 frames), at time 29.29/31.75 sec. Using the last valid frame instead.\n",
            "  warnings.warn(\n",
            "t:  93%|█████████▎| 705/762 [02:00<00:10,  5.61it/s, now=None]/usr/local/lib/python3.10/dist-packages/moviepy/video/io/ffmpeg_reader.py:154: UserWarning: In file output/composite_video.mp4, 2764800 bytes wanted but 0 bytes read,at frame index 704 (out of a total 762 frames), at time 29.33/31.75 sec. Using the last valid frame instead.\n",
            "  warnings.warn(\n",
            "t:  93%|█████████▎| 706/762 [02:01<00:10,  5.56it/s, now=None]/usr/local/lib/python3.10/dist-packages/moviepy/video/io/ffmpeg_reader.py:154: UserWarning: In file output/composite_video.mp4, 2764800 bytes wanted but 0 bytes read,at frame index 705 (out of a total 762 frames), at time 29.38/31.75 sec. Using the last valid frame instead.\n",
            "  warnings.warn(\n",
            "t:  93%|█████████▎| 707/762 [02:01<00:09,  5.75it/s, now=None]/usr/local/lib/python3.10/dist-packages/moviepy/video/io/ffmpeg_reader.py:154: UserWarning: In file output/composite_video.mp4, 2764800 bytes wanted but 0 bytes read,at frame index 706 (out of a total 762 frames), at time 29.42/31.75 sec. Using the last valid frame instead.\n",
            "  warnings.warn(\n",
            "t:  93%|█████████▎| 708/762 [02:01<00:10,  5.13it/s, now=None]/usr/local/lib/python3.10/dist-packages/moviepy/video/io/ffmpeg_reader.py:154: UserWarning: In file output/composite_video.mp4, 2764800 bytes wanted but 0 bytes read,at frame index 707 (out of a total 762 frames), at time 29.46/31.75 sec. Using the last valid frame instead.\n",
            "  warnings.warn(\n",
            "t:  93%|█████████▎| 709/762 [02:01<00:09,  5.53it/s, now=None]/usr/local/lib/python3.10/dist-packages/moviepy/video/io/ffmpeg_reader.py:154: UserWarning: In file output/composite_video.mp4, 2764800 bytes wanted but 0 bytes read,at frame index 708 (out of a total 762 frames), at time 29.50/31.75 sec. Using the last valid frame instead.\n",
            "  warnings.warn(\n",
            "t:  93%|█████████▎| 710/762 [02:01<00:09,  5.52it/s, now=None]/usr/local/lib/python3.10/dist-packages/moviepy/video/io/ffmpeg_reader.py:154: UserWarning: In file output/composite_video.mp4, 2764800 bytes wanted but 0 bytes read,at frame index 709 (out of a total 762 frames), at time 29.54/31.75 sec. Using the last valid frame instead.\n",
            "  warnings.warn(\n",
            "t:  93%|█████████▎| 711/762 [02:02<00:10,  5.04it/s, now=None]/usr/local/lib/python3.10/dist-packages/moviepy/video/io/ffmpeg_reader.py:154: UserWarning: In file output/composite_video.mp4, 2764800 bytes wanted but 0 bytes read,at frame index 710 (out of a total 762 frames), at time 29.58/31.75 sec. Using the last valid frame instead.\n",
            "  warnings.warn(\n",
            "t:  93%|█████████▎| 712/762 [02:02<00:09,  5.43it/s, now=None]/usr/local/lib/python3.10/dist-packages/moviepy/video/io/ffmpeg_reader.py:154: UserWarning: In file output/composite_video.mp4, 2764800 bytes wanted but 0 bytes read,at frame index 711 (out of a total 762 frames), at time 29.62/31.75 sec. Using the last valid frame instead.\n",
            "  warnings.warn(\n",
            "t:  94%|█████████▎| 713/762 [02:02<00:09,  5.44it/s, now=None]/usr/local/lib/python3.10/dist-packages/moviepy/video/io/ffmpeg_reader.py:154: UserWarning: In file output/composite_video.mp4, 2764800 bytes wanted but 0 bytes read,at frame index 712 (out of a total 762 frames), at time 29.67/31.75 sec. Using the last valid frame instead.\n",
            "  warnings.warn(\n",
            "t:  94%|█████████▎| 714/762 [02:02<00:08,  5.37it/s, now=None]/usr/local/lib/python3.10/dist-packages/moviepy/video/io/ffmpeg_reader.py:154: UserWarning: In file output/composite_video.mp4, 2764800 bytes wanted but 0 bytes read,at frame index 713 (out of a total 762 frames), at time 29.71/31.75 sec. Using the last valid frame instead.\n",
            "  warnings.warn(\n",
            "t:  94%|█████████▍| 715/762 [02:02<00:08,  5.87it/s, now=None]/usr/local/lib/python3.10/dist-packages/moviepy/video/io/ffmpeg_reader.py:154: UserWarning: In file output/composite_video.mp4, 2764800 bytes wanted but 0 bytes read,at frame index 714 (out of a total 762 frames), at time 29.75/31.75 sec. Using the last valid frame instead.\n",
            "  warnings.warn(\n",
            "t:  94%|█████████▍| 716/762 [02:02<00:08,  5.39it/s, now=None]/usr/local/lib/python3.10/dist-packages/moviepy/video/io/ffmpeg_reader.py:154: UserWarning: In file output/composite_video.mp4, 2764800 bytes wanted but 0 bytes read,at frame index 715 (out of a total 762 frames), at time 29.79/31.75 sec. Using the last valid frame instead.\n",
            "  warnings.warn(\n",
            "t:  94%|█████████▍| 717/762 [02:03<00:08,  5.45it/s, now=None]/usr/local/lib/python3.10/dist-packages/moviepy/video/io/ffmpeg_reader.py:154: UserWarning: In file output/composite_video.mp4, 2764800 bytes wanted but 0 bytes read,at frame index 716 (out of a total 762 frames), at time 29.83/31.75 sec. Using the last valid frame instead.\n",
            "  warnings.warn(\n",
            "t:  94%|█████████▍| 718/762 [02:03<00:07,  5.66it/s, now=None]/usr/local/lib/python3.10/dist-packages/moviepy/video/io/ffmpeg_reader.py:154: UserWarning: In file output/composite_video.mp4, 2764800 bytes wanted but 0 bytes read,at frame index 717 (out of a total 762 frames), at time 29.88/31.75 sec. Using the last valid frame instead.\n",
            "  warnings.warn(\n",
            "t:  94%|█████████▍| 719/762 [02:03<00:07,  5.56it/s, now=None]/usr/local/lib/python3.10/dist-packages/moviepy/video/io/ffmpeg_reader.py:154: UserWarning: In file output/composite_video.mp4, 2764800 bytes wanted but 0 bytes read,at frame index 718 (out of a total 762 frames), at time 29.92/31.75 sec. Using the last valid frame instead.\n",
            "  warnings.warn(\n",
            "t:  94%|█████████▍| 720/762 [02:03<00:08,  5.02it/s, now=None]/usr/local/lib/python3.10/dist-packages/moviepy/video/io/ffmpeg_reader.py:154: UserWarning: In file output/composite_video.mp4, 2764800 bytes wanted but 0 bytes read,at frame index 719 (out of a total 762 frames), at time 29.96/31.75 sec. Using the last valid frame instead.\n",
            "  warnings.warn(\n",
            "t:  95%|█████████▍| 721/762 [02:03<00:07,  5.27it/s, now=None]/usr/local/lib/python3.10/dist-packages/moviepy/video/io/ffmpeg_reader.py:154: UserWarning: In file output/composite_video.mp4, 2764800 bytes wanted but 0 bytes read,at frame index 720 (out of a total 762 frames), at time 30.00/31.75 sec. Using the last valid frame instead.\n",
            "  warnings.warn(\n",
            "t:  95%|█████████▍| 722/762 [02:04<00:06,  5.79it/s, now=None]/usr/local/lib/python3.10/dist-packages/moviepy/video/io/ffmpeg_reader.py:154: UserWarning: In file output/composite_video.mp4, 2764800 bytes wanted but 0 bytes read,at frame index 721 (out of a total 762 frames), at time 30.04/31.75 sec. Using the last valid frame instead.\n",
            "  warnings.warn(\n",
            "t:  95%|█████████▍| 723/762 [02:04<00:07,  5.56it/s, now=None]/usr/local/lib/python3.10/dist-packages/moviepy/video/io/ffmpeg_reader.py:154: UserWarning: In file output/composite_video.mp4, 2764800 bytes wanted but 0 bytes read,at frame index 722 (out of a total 762 frames), at time 30.08/31.75 sec. Using the last valid frame instead.\n",
            "  warnings.warn(\n",
            "t:  95%|█████████▌| 724/762 [02:04<00:06,  5.94it/s, now=None]/usr/local/lib/python3.10/dist-packages/moviepy/video/io/ffmpeg_reader.py:154: UserWarning: In file output/composite_video.mp4, 2764800 bytes wanted but 0 bytes read,at frame index 723 (out of a total 762 frames), at time 30.12/31.75 sec. Using the last valid frame instead.\n",
            "  warnings.warn(\n",
            "t:  95%|█████████▌| 725/762 [02:04<00:06,  6.11it/s, now=None]/usr/local/lib/python3.10/dist-packages/moviepy/video/io/ffmpeg_reader.py:154: UserWarning: In file output/composite_video.mp4, 2764800 bytes wanted but 0 bytes read,at frame index 724 (out of a total 762 frames), at time 30.17/31.75 sec. Using the last valid frame instead.\n",
            "  warnings.warn(\n",
            "t:  95%|█████████▌| 726/762 [02:04<00:07,  5.08it/s, now=None]/usr/local/lib/python3.10/dist-packages/moviepy/video/io/ffmpeg_reader.py:154: UserWarning: In file output/composite_video.mp4, 2764800 bytes wanted but 0 bytes read,at frame index 725 (out of a total 762 frames), at time 30.21/31.75 sec. Using the last valid frame instead.\n",
            "  warnings.warn(\n",
            "t:  95%|█████████▌| 727/762 [02:04<00:06,  5.58it/s, now=None]/usr/local/lib/python3.10/dist-packages/moviepy/video/io/ffmpeg_reader.py:154: UserWarning: In file output/composite_video.mp4, 2764800 bytes wanted but 0 bytes read,at frame index 726 (out of a total 762 frames), at time 30.25/31.75 sec. Using the last valid frame instead.\n",
            "  warnings.warn(\n",
            "t:  96%|█████████▌| 728/762 [02:05<00:05,  6.04it/s, now=None]/usr/local/lib/python3.10/dist-packages/moviepy/video/io/ffmpeg_reader.py:154: UserWarning: In file output/composite_video.mp4, 2764800 bytes wanted but 0 bytes read,at frame index 727 (out of a total 762 frames), at time 30.29/31.75 sec. Using the last valid frame instead.\n",
            "  warnings.warn(\n",
            "t:  96%|█████████▌| 729/762 [02:05<00:05,  5.76it/s, now=None]/usr/local/lib/python3.10/dist-packages/moviepy/video/io/ffmpeg_reader.py:154: UserWarning: In file output/composite_video.mp4, 2764800 bytes wanted but 0 bytes read,at frame index 728 (out of a total 762 frames), at time 30.33/31.75 sec. Using the last valid frame instead.\n",
            "  warnings.warn(\n",
            "t:  96%|█████████▌| 730/762 [02:05<00:05,  5.58it/s, now=None]/usr/local/lib/python3.10/dist-packages/moviepy/video/io/ffmpeg_reader.py:154: UserWarning: In file output/composite_video.mp4, 2764800 bytes wanted but 0 bytes read,at frame index 729 (out of a total 762 frames), at time 30.38/31.75 sec. Using the last valid frame instead.\n",
            "  warnings.warn(\n",
            "t:  96%|█████████▌| 731/762 [02:05<00:08,  3.77it/s, now=None]/usr/local/lib/python3.10/dist-packages/moviepy/video/io/ffmpeg_reader.py:154: UserWarning: In file output/composite_video.mp4, 2764800 bytes wanted but 0 bytes read,at frame index 730 (out of a total 762 frames), at time 30.42/31.75 sec. Using the last valid frame instead.\n",
            "  warnings.warn(\n",
            "t:  96%|█████████▌| 732/762 [02:06<00:06,  4.50it/s, now=None]/usr/local/lib/python3.10/dist-packages/moviepy/video/io/ffmpeg_reader.py:154: UserWarning: In file output/composite_video.mp4, 2764800 bytes wanted but 0 bytes read,at frame index 731 (out of a total 762 frames), at time 30.46/31.75 sec. Using the last valid frame instead.\n",
            "  warnings.warn(\n",
            "t:  96%|█████████▌| 733/762 [02:06<00:06,  4.80it/s, now=None]/usr/local/lib/python3.10/dist-packages/moviepy/video/io/ffmpeg_reader.py:154: UserWarning: In file output/composite_video.mp4, 2764800 bytes wanted but 0 bytes read,at frame index 732 (out of a total 762 frames), at time 30.50/31.75 sec. Using the last valid frame instead.\n",
            "  warnings.warn(\n",
            "t:  96%|█████████▋| 734/762 [02:06<00:05,  5.22it/s, now=None]/usr/local/lib/python3.10/dist-packages/moviepy/video/io/ffmpeg_reader.py:154: UserWarning: In file output/composite_video.mp4, 2764800 bytes wanted but 0 bytes read,at frame index 733 (out of a total 762 frames), at time 30.54/31.75 sec. Using the last valid frame instead.\n",
            "  warnings.warn(\n",
            "t:  96%|█████████▋| 735/762 [02:06<00:04,  5.53it/s, now=None]/usr/local/lib/python3.10/dist-packages/moviepy/video/io/ffmpeg_reader.py:154: UserWarning: In file output/composite_video.mp4, 2764800 bytes wanted but 0 bytes read,at frame index 734 (out of a total 762 frames), at time 30.58/31.75 sec. Using the last valid frame instead.\n",
            "  warnings.warn(\n",
            "t:  97%|█████████▋| 736/762 [02:06<00:05,  4.86it/s, now=None]/usr/local/lib/python3.10/dist-packages/moviepy/video/io/ffmpeg_reader.py:154: UserWarning: In file output/composite_video.mp4, 2764800 bytes wanted but 0 bytes read,at frame index 735 (out of a total 762 frames), at time 30.62/31.75 sec. Using the last valid frame instead.\n",
            "  warnings.warn(\n",
            "t:  97%|█████████▋| 737/762 [02:06<00:05,  4.86it/s, now=None]/usr/local/lib/python3.10/dist-packages/moviepy/video/io/ffmpeg_reader.py:154: UserWarning: In file output/composite_video.mp4, 2764800 bytes wanted but 0 bytes read,at frame index 736 (out of a total 762 frames), at time 30.67/31.75 sec. Using the last valid frame instead.\n",
            "  warnings.warn(\n",
            "t:  97%|█████████▋| 738/762 [02:07<00:04,  5.33it/s, now=None]/usr/local/lib/python3.10/dist-packages/moviepy/video/io/ffmpeg_reader.py:154: UserWarning: In file output/composite_video.mp4, 2764800 bytes wanted but 0 bytes read,at frame index 737 (out of a total 762 frames), at time 30.71/31.75 sec. Using the last valid frame instead.\n",
            "  warnings.warn(\n",
            "t:  97%|█████████▋| 739/762 [02:07<00:03,  6.01it/s, now=None]/usr/local/lib/python3.10/dist-packages/moviepy/video/io/ffmpeg_reader.py:154: UserWarning: In file output/composite_video.mp4, 2764800 bytes wanted but 0 bytes read,at frame index 738 (out of a total 762 frames), at time 30.75/31.75 sec. Using the last valid frame instead.\n",
            "  warnings.warn(\n",
            "t:  97%|█████████▋| 740/762 [02:07<00:04,  4.72it/s, now=None]/usr/local/lib/python3.10/dist-packages/moviepy/video/io/ffmpeg_reader.py:154: UserWarning: In file output/composite_video.mp4, 2764800 bytes wanted but 0 bytes read,at frame index 739 (out of a total 762 frames), at time 30.79/31.75 sec. Using the last valid frame instead.\n",
            "  warnings.warn(\n",
            "t:  97%|█████████▋| 741/762 [02:07<00:04,  5.08it/s, now=None]/usr/local/lib/python3.10/dist-packages/moviepy/video/io/ffmpeg_reader.py:154: UserWarning: In file output/composite_video.mp4, 2764800 bytes wanted but 0 bytes read,at frame index 740 (out of a total 762 frames), at time 30.83/31.75 sec. Using the last valid frame instead.\n",
            "  warnings.warn(\n",
            "t:  97%|█████████▋| 742/762 [02:07<00:03,  5.19it/s, now=None]/usr/local/lib/python3.10/dist-packages/moviepy/video/io/ffmpeg_reader.py:154: UserWarning: In file output/composite_video.mp4, 2764800 bytes wanted but 0 bytes read,at frame index 741 (out of a total 762 frames), at time 30.88/31.75 sec. Using the last valid frame instead.\n",
            "  warnings.warn(\n",
            "t:  98%|█████████▊| 743/762 [02:08<00:03,  5.28it/s, now=None]/usr/local/lib/python3.10/dist-packages/moviepy/video/io/ffmpeg_reader.py:154: UserWarning: In file output/composite_video.mp4, 2764800 bytes wanted but 0 bytes read,at frame index 742 (out of a total 762 frames), at time 30.92/31.75 sec. Using the last valid frame instead.\n",
            "  warnings.warn(\n",
            "t:  98%|█████████▊| 744/762 [02:08<00:03,  5.16it/s, now=None]/usr/local/lib/python3.10/dist-packages/moviepy/video/io/ffmpeg_reader.py:154: UserWarning: In file output/composite_video.mp4, 2764800 bytes wanted but 0 bytes read,at frame index 743 (out of a total 762 frames), at time 30.96/31.75 sec. Using the last valid frame instead.\n",
            "  warnings.warn(\n",
            "t:  98%|█████████▊| 745/762 [02:08<00:03,  5.13it/s, now=None]/usr/local/lib/python3.10/dist-packages/moviepy/video/io/ffmpeg_reader.py:154: UserWarning: In file output/composite_video.mp4, 2764800 bytes wanted but 0 bytes read,at frame index 744 (out of a total 762 frames), at time 31.00/31.75 sec. Using the last valid frame instead.\n",
            "  warnings.warn(\n",
            "t:  98%|█████████▊| 746/762 [02:08<00:02,  5.49it/s, now=None]/usr/local/lib/python3.10/dist-packages/moviepy/video/io/ffmpeg_reader.py:154: UserWarning: In file output/composite_video.mp4, 2764800 bytes wanted but 0 bytes read,at frame index 745 (out of a total 762 frames), at time 31.04/31.75 sec. Using the last valid frame instead.\n",
            "  warnings.warn(\n",
            "t:  98%|█████████▊| 747/762 [02:08<00:02,  5.90it/s, now=None]/usr/local/lib/python3.10/dist-packages/moviepy/video/io/ffmpeg_reader.py:154: UserWarning: In file output/composite_video.mp4, 2764800 bytes wanted but 0 bytes read,at frame index 746 (out of a total 762 frames), at time 31.08/31.75 sec. Using the last valid frame instead.\n",
            "  warnings.warn(\n",
            "t:  98%|█████████▊| 748/762 [02:09<00:02,  5.13it/s, now=None]/usr/local/lib/python3.10/dist-packages/moviepy/video/io/ffmpeg_reader.py:154: UserWarning: In file output/composite_video.mp4, 2764800 bytes wanted but 0 bytes read,at frame index 747 (out of a total 762 frames), at time 31.12/31.75 sec. Using the last valid frame instead.\n",
            "  warnings.warn(\n",
            "t:  98%|█████████▊| 749/762 [02:09<00:02,  5.41it/s, now=None]/usr/local/lib/python3.10/dist-packages/moviepy/video/io/ffmpeg_reader.py:154: UserWarning: In file output/composite_video.mp4, 2764800 bytes wanted but 0 bytes read,at frame index 748 (out of a total 762 frames), at time 31.17/31.75 sec. Using the last valid frame instead.\n",
            "  warnings.warn(\n",
            "t:  98%|█████████▊| 750/762 [02:09<00:02,  5.71it/s, now=None]/usr/local/lib/python3.10/dist-packages/moviepy/video/io/ffmpeg_reader.py:154: UserWarning: In file output/composite_video.mp4, 2764800 bytes wanted but 0 bytes read,at frame index 749 (out of a total 762 frames), at time 31.21/31.75 sec. Using the last valid frame instead.\n",
            "  warnings.warn(\n",
            "t:  99%|█████████▊| 751/762 [02:09<00:01,  6.05it/s, now=None]/usr/local/lib/python3.10/dist-packages/moviepy/video/io/ffmpeg_reader.py:154: UserWarning: In file output/composite_video.mp4, 2764800 bytes wanted but 0 bytes read,at frame index 750 (out of a total 762 frames), at time 31.25/31.75 sec. Using the last valid frame instead.\n",
            "  warnings.warn(\n",
            "t:  99%|█████████▊| 752/762 [02:09<00:01,  5.10it/s, now=None]/usr/local/lib/python3.10/dist-packages/moviepy/video/io/ffmpeg_reader.py:154: UserWarning: In file output/composite_video.mp4, 2764800 bytes wanted but 0 bytes read,at frame index 751 (out of a total 762 frames), at time 31.29/31.75 sec. Using the last valid frame instead.\n",
            "  warnings.warn(\n",
            "t:  99%|█████████▉| 753/762 [02:09<00:01,  5.43it/s, now=None]/usr/local/lib/python3.10/dist-packages/moviepy/video/io/ffmpeg_reader.py:154: UserWarning: In file output/composite_video.mp4, 2764800 bytes wanted but 0 bytes read,at frame index 752 (out of a total 762 frames), at time 31.33/31.75 sec. Using the last valid frame instead.\n",
            "  warnings.warn(\n",
            "t:  99%|█████████▉| 754/762 [02:10<00:01,  5.84it/s, now=None]/usr/local/lib/python3.10/dist-packages/moviepy/video/io/ffmpeg_reader.py:154: UserWarning: In file output/composite_video.mp4, 2764800 bytes wanted but 0 bytes read,at frame index 753 (out of a total 762 frames), at time 31.38/31.75 sec. Using the last valid frame instead.\n",
            "  warnings.warn(\n",
            "t:  99%|█████████▉| 755/762 [02:10<00:01,  5.63it/s, now=None]/usr/local/lib/python3.10/dist-packages/moviepy/video/io/ffmpeg_reader.py:154: UserWarning: In file output/composite_video.mp4, 2764800 bytes wanted but 0 bytes read,at frame index 754 (out of a total 762 frames), at time 31.42/31.75 sec. Using the last valid frame instead.\n",
            "  warnings.warn(\n",
            "t:  99%|█████████▉| 756/762 [02:10<00:01,  5.81it/s, now=None]/usr/local/lib/python3.10/dist-packages/moviepy/video/io/ffmpeg_reader.py:154: UserWarning: In file output/composite_video.mp4, 2764800 bytes wanted but 0 bytes read,at frame index 755 (out of a total 762 frames), at time 31.46/31.75 sec. Using the last valid frame instead.\n",
            "  warnings.warn(\n",
            "/usr/local/lib/python3.10/dist-packages/moviepy/video/io/ffmpeg_reader.py:154: UserWarning: In file output/composite_video.mp4, 2764800 bytes wanted but 0 bytes read,at frame index 756 (out of a total 762 frames), at time 31.50/31.75 sec. Using the last valid frame instead.\n",
            "  warnings.warn(\n",
            "t:  99%|█████████▉| 758/762 [02:10<00:00,  7.96it/s, now=None]/usr/local/lib/python3.10/dist-packages/moviepy/video/io/ffmpeg_reader.py:154: UserWarning: In file output/composite_video.mp4, 2764800 bytes wanted but 0 bytes read,at frame index 757 (out of a total 762 frames), at time 31.54/31.75 sec. Using the last valid frame instead.\n",
            "  warnings.warn(\n",
            "/usr/local/lib/python3.10/dist-packages/moviepy/video/io/ffmpeg_reader.py:154: UserWarning: In file output/composite_video.mp4, 2764800 bytes wanted but 0 bytes read,at frame index 758 (out of a total 762 frames), at time 31.58/31.75 sec. Using the last valid frame instead.\n",
            "  warnings.warn(\n",
            "t: 100%|█████████▉| 760/762 [02:10<00:00,  9.34it/s, now=None]/usr/local/lib/python3.10/dist-packages/moviepy/video/io/ffmpeg_reader.py:154: UserWarning: In file output/composite_video.mp4, 2764800 bytes wanted but 0 bytes read,at frame index 759 (out of a total 762 frames), at time 31.62/31.75 sec. Using the last valid frame instead.\n",
            "  warnings.warn(\n",
            "/usr/local/lib/python3.10/dist-packages/moviepy/video/io/ffmpeg_reader.py:154: UserWarning: In file output/composite_video.mp4, 2764800 bytes wanted but 0 bytes read,at frame index 760 (out of a total 762 frames), at time 31.67/31.75 sec. Using the last valid frame instead.\n",
            "  warnings.warn(\n",
            "t: 100%|██████████| 762/762 [02:10<00:00, 10.18it/s, now=None]/usr/local/lib/python3.10/dist-packages/moviepy/video/io/ffmpeg_reader.py:154: UserWarning: In file output/composite_video.mp4, 2764800 bytes wanted but 0 bytes read,at frame index 761 (out of a total 762 frames), at time 31.71/31.75 sec. Using the last valid frame instead.\n",
            "  warnings.warn(\n"
          ]
        },
        {
          "output_type": "stream",
          "name": "stdout",
          "text": [
            "Moviepy - Done !\n",
            "Moviepy - video ready output/out.mp4\n"
          ]
        }
      ],
      "source": [
        "#@markdown <center><h2>Add Subtitles And WaterMark In the Final Video</h2>\n",
        "\n",
        "from moviepy.editor import TextClip, CompositeVideoClip\n",
        "from moviepy.video.tools.subtitles import SubtitlesClip\n",
        "\n",
        "video = VideoFileClip(\"output/composite_video.mp4\")\n",
        "watermark_clip = TextClip(\"@MojoVibesDaily\", font=\"Nimbus-Sans-Bold\", fontsize=24,\n",
        "                          color='white', size=(640, 480)).set_duration(video.duration)\n",
        "generator = lambda txt: TextClip(txt, font=\"Nimbus-Sans-Bold\", fontsize=36,\n",
        "                                 color='white', size=(video.w, video.h),\n",
        "                                 stroke_color='black', stroke_width=1.5)\n",
        "subtitles = SubtitlesClip(\"output/voice.srt\", generator)\n",
        "result = CompositeVideoClip([video, subtitles.set_position(('center')),\n",
        "                             watermark_clip.set_position(('center', 'bottom'))])\n",
        "result.write_videofile(\"output/out.mp4\", fps=video.fps, codec=\"libx264\",\n",
        "                       audio_codec=\"aac\")"
      ]
    },
    {
      "cell_type": "code",
      "execution_count": null,
      "metadata": {
        "id": "GoeKh_Xg3Kvu",
        "cellView": "form"
      },
      "outputs": [],
      "source": [
        "#@markdown <center><h2>Get The Final Video</h2>\n",
        "\n",
        "print(caption)\n",
        "play(\"output/out.mp4\")"
      ]
    },
    {
      "cell_type": "code",
      "execution_count": null,
      "metadata": {
        "colab": {
          "base_uri": "https://localhost:8080/"
        },
        "id": "q_TLvqp7dEBk",
        "outputId": "94808d05-4bae-4a54-d619-cbe0447bc120",
        "cellView": "form"
      },
      "outputs": [
        {
          "output_type": "stream",
          "name": "stdout",
          "text": [
            "--2024-01-14 11:54:35--  https://gist.githubusercontent.com/tajpouria/f37f4999ba4913369878b1c12be83436/raw/6ec94f4e1457a688fcda9869156cbad3af89b0c9/upload_video.py\n",
            "Resolving gist.githubusercontent.com (gist.githubusercontent.com)... 185.199.108.133, 185.199.109.133, 185.199.110.133, ...\n",
            "Connecting to gist.githubusercontent.com (gist.githubusercontent.com)|185.199.108.133|:443... connected.\n",
            "HTTP request sent, awaiting response... 200 OK\n",
            "Length: 6968 (6.8K) [text/plain]\n",
            "Saving to: ‘upload_video.py.2’\n",
            "\n",
            "\rupload_video.py.2     0%[                    ]       0  --.-KB/s               \rupload_video.py.2   100%[===================>]   6.80K  --.-KB/s    in 0s      \n",
            "\n",
            "2024-01-14 11:54:35 (46.3 MB/s) - ‘upload_video.py.2’ saved [6968/6968]\n",
            "\n"
          ]
        }
      ],
      "source": [
        "#@markdown <center><h2>Upload The Final Video To Youtube</h2>\n",
        "\n",
        "from google.colab import userdata\n",
        "\n",
        "with open(\"client_secrets.json\", \"w\") as f:\n",
        "  f.write(userdata.get('CLIENT_SECRETS'))\n",
        "with open(\"upload_video.py-oauth2.json\", \"w\") as f:\n",
        "  f.write(userdata.get('PY_OAUTH2'))\n",
        "\n",
        "!wget https://gist.githubusercontent.com/tajpouria/f37f4999ba4913369878b1c12be83436/raw/6ec94f4e1457a688fcda9869156cbad3af89b0c9/upload_video.py"
      ]
    }
  ],
  "metadata": {
    "colab": {
      "provenance": []
    },
    "kernelspec": {
      "display_name": "Python 3",
      "name": "python3"
    },
    "language_info": {
      "name": "python"
    }
  },
  "nbformat": 4,
  "nbformat_minor": 0
}